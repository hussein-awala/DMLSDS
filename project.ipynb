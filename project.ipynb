{
 "cells": [
  {
   "cell_type": "code",
   "execution_count": 1,
   "metadata": {},
   "outputs": [],
   "source": [
    "import sys\n",
    "from pyspark import SparkContext\n",
    "from pyspark import StorageLevel\n",
    "import time\n",
    "import numpy as np\n",
    "%matplotlib inline\n",
    "from matplotlib import pyplot"
   ]
  },
  {
   "cell_type": "code",
   "execution_count": 2,
   "metadata": {},
   "outputs": [],
   "source": [
    "dataDir='data/clusterdata-2011-2/'"
   ]
  },
  {
   "cell_type": "code",
   "execution_count": 3,
   "metadata": {},
   "outputs": [],
   "source": [
    "sc = SparkContext(\"local[4]\")"
   ]
  },
  {
   "cell_type": "code",
   "execution_count": 4,
   "metadata": {},
   "outputs": [],
   "source": [
    "sc.setLogLevel(\"ERROR\")\n",
    "job_events=sc.textFile(dataDir+'/job_events').map(lambda x:x.split(','))\n",
    "machine_attributes=sc.textFile(dataDir+'/machine_attributes').map(lambda x:x.split(','))\n",
    "machine_events=sc.textFile(dataDir+'/machine_events').map(lambda x:x.split(','))\n",
    "task_events=sc.textFile(dataDir+'/task_events').map(lambda x:x.split(','))\n",
    "task_contraints=sc.textFile(dataDir+'/task_contraints').map(lambda x:x.split(','))\n",
    "task_usage=sc.textFile(dataDir+'/task_usage').map(lambda x:x.split(','))"
   ]
  },
  {
   "cell_type": "code",
   "execution_count": 60,
   "metadata": {},
   "outputs": [],
   "source": [
    "#question 1\n",
    "\"\"\"\n",
    "1- Load the machine_events data\n",
    "2- Filter the RDD to remove rows without the information about the CPU\n",
    "3- Map the data as tuple having this form (machine ID,CPUs)\n",
    "4- Reduce the RDD to remove the duplication by return one value for each key\n",
    "5- Map the the data as form (CPUs,1)\n",
    "6- Reduce the current RDD by CPUs as key and summing the the 1 to get the count of each key\n",
    "Result: The occurance's number of each CPU\n",
    "\"\"\"\n",
    "CPUs_count=machine_events\\\n",
    ".filter(lambda x:x[4]!=\"\")\\\n",
    ".map(lambda x:(x[1],x[4]))\\\n",
    ".reduceByKey(lambda x,y:x)\\\n",
    ".map(lambda x:(x[1],1))\\\n",
    ".reduceByKey(lambda x,y:x+y)\\\n",
    ".take(10)"
   ]
  },
  {
   "cell_type": "code",
   "execution_count": 43,
   "metadata": {},
   "outputs": [
    {
     "data": {
      "image/png": "[encoded data removed]",
      "text/plain": [
       "<Figure size 1440x720 with 1 Axes>"
      ]
     },
     "metadata": {
      "needs_background": "light"
     },
     "output_type": "display_data"
    }
   ],
   "source": [
    "pyplot.figure(figsize=(20,10))\n",
    "pyplot.bar(*zip(*CPUs_count),align='center') # A bar chart\n",
    "pyplot.xlabel('CPU capacity',fontsize=25)\n",
    "pyplot.ylabel('Number of machines',fontsize=25)\n",
    "pyplot.show()"
   ]
  },
  {
   "cell_type": "code",
   "execution_count": 6,
   "metadata": {},
   "outputs": [
    {
     "name": "stdout",
     "output_type": "stream",
     "text": [
      "37.8341959274052\n"
     ]
    }
   ],
   "source": [
    "#question 2\n",
    "\"\"\"\n",
    "1- Load task_events data\n",
    "2- Map the data as tuples (job ID,task index)\n",
    "3- Remove the duplicated tuples\n",
    "4- Save the RDD as tasks\n",
    "5- Use the tasks RDD and map the job ID only\n",
    "6- Remove the duplicated job ID\n",
    "7- Save the count of this job IDs as number_of_jobs\n",
    "8- Save the count of rows in tasks that represnt the total number of tasks\n",
    "9- Calculate the average by dividing the number_of_tasks over number_of_jobs\n",
    "\"\"\"\n",
    "tasks=task_events\\\n",
    ".map(lambda x:(x[2],x[3]))\\\n",
    ".distinct()\n",
    "number_of_jobs=tasks\\\n",
    ".map(lambda x:x[0])\\\n",
    ".distinct()\\\n",
    ".count()\n",
    "number_of_tasks=tasks\\\n",
    ".count()\n",
    "avg_of_tasks_per_job=number_of_tasks/number_of_jobs\n",
    "print(avg_of_tasks_per_job)"
   ]
  },
  {
   "cell_type": "markdown",
   "metadata": {},
   "source": [
    "## The result using all data = 37.8341959274052"
   ]
  },
  {
   "cell_type": "code",
   "execution_count": 28,
   "metadata": {},
   "outputs": [
    {
     "name": "stdout",
     "output_type": "stream",
     "text": [
      "11.209280956024866\n"
     ]
    }
   ],
   "source": [
    "#question 3\n",
    "\"\"\"\n",
    "1- Use the task_events RDD\n",
    "2- Save the count of rows as nb_of_tasks\n",
    "3- Use the task_events RDD\n",
    "4- Map the data as tuples (task index,event type)\n",
    "5- Filter the data to get the event 2(evicted) and 5(killed)\n",
    "6- Save the count as nb_tasks_evicted_or_killed\n",
    "7- Divide the nb_tasks_evicted_or_killed over nb_of_tasks to get the average of the tasks evicted or killed\n",
    "\"\"\"\n",
    "nb_of_tasks=task_events\\\n",
    ".count()\n",
    "nb_tasks_evicted_or_killed=task_events\\\n",
    ".map(lambda x:(x[3],x[5]))\\\n",
    ".filter(lambda x:x[1]=='5' or x[1]=='2')\\\n",
    ".count()\n",
    "avg_of_tasks_evicted_or_killed=(nb_tasks_evicted_or_killed/nb_of_tasks)*100\n",
    "print(avg_of_tasks_evicted_or_killed)"
   ]
  },
  {
   "cell_type": "markdown",
   "metadata": {},
   "source": [
    "## The result using all data = 11.209280956024865"
   ]
  },
  {
   "cell_type": "code",
   "execution_count": 58,
   "metadata": {},
   "outputs": [
    {
     "name": "stdout",
     "output_type": "stream",
     "text": [
      "13.535300426091892\n"
     ]
    }
   ],
   "source": [
    "\"\"\"\n",
    "1- Use the job_events RDD\n",
    "2- Save the count of rows as nb_of_tasks\n",
    "3- Use the job_events RDD\n",
    "4- Map the data as tuples (job index,event type)\n",
    "5- Filter the data to get the event 2(evicted) and 5(killed)\n",
    "6- Save the count as nb_jobs_evicted_or_killed\n",
    "7- Divide the nb_jobs_evicted_or_killed over nb_of_jobs to get the average of the jobs evicted or killed\n",
    "\"\"\"\n",
    "nb_of_job=job_events\\\n",
    ".count()\n",
    "nb_jobs_evicted_or_killed=job_events\\\n",
    ".map(lambda x:(x[2],x[3]))\\\n",
    ".distinct()\\\n",
    ".filter(lambda x:x[1]=='5' or x[1]=='2')\\\n",
    ".count()\n",
    "avg_of_jobs_evicted_or_killed=(nb_jobs_evicted_or_killed/nb_of_job)*100\n",
    "print(avg_of_jobs_evicted_or_killed)"
   ]
  },
  {
   "cell_type": "markdown",
   "metadata": {},
   "source": [
    "## The result using all data = 13.535300426091892"
   ]
  },
  {
   "cell_type": "code",
   "execution_count": 48,
   "metadata": {},
   "outputs": [],
   "source": [
    "#question 4\n",
    "\"\"\"\n",
    "1- Use the task_events RDD\n",
    "2- Map the data as tuple (priority,event type)\n",
    "3- Group the data by priority\n",
    "4- For each group calculate the percentage of evicted tasks for all tasks using function f\n",
    "5- Sort the data by the priority\n",
    "6- Compute the correlation between the priority and this percentage then plotting the percentages\n",
    "\"\"\"\n",
    "def f(x):\n",
    "    \"\"\"\n",
    "    Input: list of tuples (priority,event type)\n",
    "    Output: the percentage of evicted tasks for all tasks\n",
    "    \"\"\"\n",
    "    evic=0\n",
    "    for i in x:\n",
    "        if i==2:\n",
    "            evic=evic+1\n",
    "    return (float(evic)/len(x))*100\n",
    "\n",
    "rdd=task_events\\\n",
    ".map(lambda x:(int(x[8]),int(x[5])))\\\n",
    ".groupByKey()\\\n",
    ".mapValues(f)\\\n",
    ".sortByKey()\n",
    "\n",
    "x=rdd.collect()\n",
    "\n",
    "corr=np.corrcoef(*zip(*x))\n"
   ]
  },
  {
   "cell_type": "code",
   "execution_count": 49,
   "metadata": {},
   "outputs": [
    {
     "data": {
      "text/plain": [
       "[(0, 7.019767395530835),\n",
       " (1, 4.057416271306744),\n",
       " (2, 1.2955893702681904),\n",
       " (3, 4.239401496259352),\n",
       " (4, 0.09411385923464861),\n",
       " (5, 0.0),\n",
       " (6, 0.020402154506192923),\n",
       " (7, 0.0),\n",
       " (8, 0.3642396178947752),\n",
       " (9, 0.3410350154281606),\n",
       " (10, 0.5255514110480728),\n",
       " (11, 0.0)]"
      ]
     },
     "execution_count": 49,
     "metadata": {},
     "output_type": "execute_result"
    }
   ],
   "source": [
    "x"
   ]
  },
  {
   "cell_type": "markdown",
   "metadata": {},
   "source": [
    "### The result using all data= \n",
    "[(0, 7.019767395530835),\n",
    " (1, 4.057416271306744),\n",
    " (2, 1.2955893702681904),\n",
    " (3, 4.239401496259352),\n",
    " (4, 0.09411385923464861),\n",
    " (5, 0.0),\n",
    " (6, 0.020402154506192923),\n",
    " (7, 0.0),\n",
    " (8, 0.3642396178947752),\n",
    " (9, 0.3410350154281606),\n",
    " (10, 0.5255514110480728),\n",
    " (11, 0.0)]"
   ]
  },
  {
   "cell_type": "markdown",
   "metadata": {},
   "source": [
    "### We can conclude that there is a big correlation between the priority of the tasks and evicted tasks for all these tasks = -0.7363035"
   ]
  },
  {
   "cell_type": "code",
   "execution_count": 52,
   "metadata": {},
   "outputs": [
    {
     "name": "stdout",
     "output_type": "stream",
     "text": [
      "[[ 1.        -0.7363035]\n",
      " [-0.7363035  1.       ]]\n"
     ]
    },
    {
     "data": {
      "image/png": "[encoded data removed]",
      "text/plain": [
       "<Figure size 1440x720 with 1 Axes>"
      ]
     },
     "metadata": {
      "needs_background": "light"
     },
     "output_type": "display_data"
    }
   ],
   "source": [
    "print(corr)\n",
    "pyplot.figure(figsize=(20,10))\n",
    "pyplot.bar(*zip(*x),align='center')\n",
    "pyplot.xlabel('The priority of the task',fontsize=25)\n",
    "pyplot.ylabel('The percentage of the priority from all evicted task',fontsize=25)\n",
    "pyplot.show()"
   ]
  },
  {
   "cell_type": "code",
   "execution_count": 53,
   "metadata": {},
   "outputs": [],
   "source": [
    "#Approach 2\n",
    "\n",
    "\"\"\"\n",
    "In the first algorithm we compute the percentage of each priority from the evicted tasks, but now we will\n",
    "the percentage of evicted task from all tasks for each priority\n",
    "1- Use the task_events RDD\n",
    "2- Map the data as tuple ((priority,(Job Id,task index)),event type) in RDD all_tasks_events\n",
    "3- Filter the data and get only the evicted tasks, then map only the (priority,(Job Id,task index))\n",
    "4- Take the distinct rows and compute the number of evicted task for each priority and save the resukt in map all_evicted_tasks\n",
    "5- Use all_tasks_events and get only the submit event and take the distinct rows\n",
    "6- Coumpute the number of tasks with each priority and save the resukt in all_tasks\n",
    "7- Calculate the percentage of evicted tasks with each priority\n",
    "\"\"\"\n",
    "\n",
    "all_tasks_events=task_events\\\n",
    ".map(lambda x:((int(x[8]),(x[2],x[3])),int(x[5])))\n",
    "all_evicted_tasks=all_tasks_events\\\n",
    ".filter(lambda x:x[1]==2)\\\n",
    ".map(lambda x:x[0])\\\n",
    ".distinct()\\\n",
    ".countByKey()\n",
    "all_tasks=all_tasks_events\\\n",
    ".filter(lambda x:x[1]==0)\\\n",
    ".map(lambda x:x[0])\\\n",
    ".distinct()\\\n",
    ".countByKey()"
   ]
  },
  {
   "cell_type": "code",
   "execution_count": 55,
   "metadata": {},
   "outputs": [
    {
     "name": "stdout",
     "output_type": "stream",
     "text": [
      "The percentage of evicted tasks with priority 0 is 17.348312641529954\n",
      "The percentage of evicted tasks with priority 1 is 9.233915785638096\n",
      "The percentage of evicted tasks with priority 2 is 1.4412657227965593\n",
      "The percentage of evicted tasks with priority 3 is 11.295034079844205\n",
      "The percentage of evicted tasks with priority 4 is 0.28685565505422594\n",
      "The percentage of evicted tasks with priority 5 is 0\n",
      "The percentage of evicted tasks with priority 6 is 0.06564715591512135\n",
      "The percentage of evicted tasks with priority 7 is 0\n",
      "The percentage of evicted tasks with priority 8 is 0.6553450476096986\n",
      "The percentage of evicted tasks with priority 9 is 4.769110868022913\n",
      "The percentage of evicted tasks with priority 10 is 26.44333570919458\n",
      "The percentage of evicted tasks with priority 11 is 0\n"
     ]
    }
   ],
   "source": [
    "l=[]\n",
    "for i in range(12):\n",
    "    nb_evicted=all_evicted_tasks.get(i)\n",
    "    nb_of_all_tasks=all_tasks.get(i)\n",
    "    if(nb_of_all_tasks==None):\n",
    "        print('The priority {} is not found'.format(i))\n",
    "        continue\n",
    "    if(nb_evicted==None):\n",
    "        print('The percentage of evicted tasks with priority {} is {}'.format(i,0))\n",
    "        l.append((i,0))\n",
    "        continue\n",
    "    print('The percentage of evicted tasks with priority {} is {}'.format(i,(nb_evicted/nb_of_all_tasks)*100))\n",
    "    l.append((i,(nb_evicted/nb_of_all_tasks)*100))"
   ]
  },
  {
   "cell_type": "code",
   "execution_count": 57,
   "metadata": {},
   "outputs": [
    {
     "data": {
      "image/png": "[encoded data removed]",
      "text/plain": [
       "<Figure size 1440x720 with 1 Axes>"
      ]
     },
     "metadata": {
      "needs_background": "light"
     },
     "output_type": "display_data"
    }
   ],
   "source": [
    "pyplot.figure(figsize=(20,10))\n",
    "pyplot.bar(*zip(*l),align='center')\n",
    "pyplot.xlabel('The priority of the task',fontsize=25)\n",
    "pyplot.ylabel('The percentage of evicted tasks',fontsize=25)\n",
    "pyplot.show()"
   ]
  },
  {
   "cell_type": "markdown",
   "metadata": {},
   "source": [
    "### The percentage of evicted tasks with priority 0 is 17.348312641529954\n",
    "### The percentage of evicted tasks with priority 1 is 9.233915785638096\n",
    "### The percentage of evicted tasks with priority 2 is 1.4412657227965593\n",
    "### The percentage of evicted tasks with priority 3 is 11.295034079844205\n",
    "### The percentage of evicted tasks with priority 4 is 0.28685565505422594\n",
    "### The percentage of evicted tasks with priority 5 is 0\n",
    "### The percentage of evicted tasks with priority 6 is 0.06564715591512135\n",
    "### The percentage of evicted tasks with priority 7 is 0\n",
    "### The percentage of evicted tasks with priority 8 is 0.6553450476096986\n",
    "### The percentage of evicted tasks with priority 9 is 4.769110868022913\n",
    "### The percentage of evicted tasks with priority 10 is 26.44333570919458\n",
    "### The percentage of evicted tasks with priority 11 is 0"
   ]
  },
  {
   "cell_type": "code",
   "execution_count": 22,
   "metadata": {},
   "outputs": [],
   "source": [
    "#question 5\n",
    "\"\"\"\n",
    "1- We calculated the resources used on each machine every timestamp using task_usage RDD\n",
    "2- Map ((machine ID,start time),(CPU rate,canonical memory usage))\n",
    "3- Reduce by key and sum the usage to obtain the sum of resources used by all tasks in each timestamp\n",
    "4- Getting the machine resources informations from machine_events RDD\n",
    "5- Filter the data to remove the rows that are without informations about resources\n",
    "6- Reduce by key to remove the duplicated data\n",
    "7- Computing the free resources of each machine at each timestamp by join the two previous RDD\n",
    "    and calculate the difference between the total resources and the used resources\n",
    "8- Maping the value as tuple ((machine ID,start time),(available CPU,available memory))\n",
    "9- Compute the distribution of tasks over machines at each timestamp using the task_usage RDD\n",
    "10- Map the data as tuple ((job ID,task index),(machine ID,start time))\n",
    "11- Get the priority for each task using the task_events RDD\n",
    "12- Map the data as tuple ((job ID,task index),priority)\n",
    "13- Inner join the task_distribution_at_each_timestamp RDD with priority_for_each_task RDD\n",
    "14- Map the data as ((machine ID,start time),priority)\n",
    "15- Group the last RDD by (machine ID,start time)\n",
    "16- Apply the function f foreach group to get the percentage of high priority tasks in each machine\n",
    "17- Inner join the machine_free_resource_at_each_timestamp RDD with priority_distribution_at_each_timestamp RDD\n",
    "18- Map the data as ((available CPU,available memory),percentage of high priority tasks)\n",
    "\"\"\"\n",
    "def f(x):\n",
    "    \"\"\"\n",
    "    Input: list of priorities\n",
    "    Output: percentage of tasks with high priority\n",
    "    \"\"\"\n",
    "    c=0\n",
    "    for i in x:\n",
    "        if(i>6):\n",
    "            c=c+1\n",
    "        return (c/len(x))*100\n",
    "resources_used_on_each_machine_every_timestamp=task_usage\\\n",
    ".map(lambda x:((x[4],x[0]),(float(x[5]),float(x[6]))))\\\n",
    ".reduceByKey(lambda x,y:(x[0]+y[0],x[1]+y[1]))\\\n",
    ".map(lambda x: (x[0][0],(x[0][1],x[1])))\n",
    "\n",
    "machine_recources=machine_events\\\n",
    ".filter(lambda x:x[4]!='' and x[5]!=0)\\\n",
    ".map(lambda x:(x[1],(float(x[4]),float(x[5]))))\\\n",
    ".reduceByKey(lambda x,y:x)\n",
    "\n",
    "machine_free_resource_at_each_timestamp=machine_recources\\\n",
    ".join(resources_used_on_each_machine_every_timestamp)\\\n",
    ".map(lambda x:((x[0],x[1][1][0]),(x[1][0][0]-x[1][1][1][0],x[1][0][1]-x[1][1][1][1])))\n",
    "\n",
    "task_distribution_at_each_timestamp=task_usage\\\n",
    ".map(lambda x: ((x[2],x[3]),(x[4],x[0])))\n",
    "\n",
    "priority_for_each_task=task_events\\\n",
    ".map(lambda x:((x[2],x[3]),float(x[8])))\n",
    "\n",
    "priority_distribution_at_each_timestamp=task_distribution_at_each_timestamp\\\n",
    ".join(priority_for_each_task)\\\n",
    ".map(lambda x:x[1])\\\n",
    ".groupByKey()\\\n",
    ".mapValues(f)\n",
    "\n",
    "available_resources_and_priorities=machine_free_resource_at_each_timestamp\\\n",
    ".join(priority_distribution_at_each_timestamp)\\\n",
    ".map(lambda x: x[1])\n",
    "\n",
    "result=available_resources_and_priorities.collect()"
   ]
  },
  {
   "cell_type": "code",
   "execution_count": 34,
   "metadata": {},
   "outputs": [],
   "source": [
    "resources,priority=zip(*result)\n",
    "CPU,memory=zip(*resources)"
   ]
  },
  {
   "cell_type": "code",
   "execution_count": 42,
   "metadata": {},
   "outputs": [],
   "source": [
    "corr_cpu_priority=np.corrcoef(CPU,priority)\n",
    "corr_memory_priority=np.corrcoef(memory,priority)"
   ]
  },
  {
   "cell_type": "code",
   "execution_count": 43,
   "metadata": {},
   "outputs": [
    {
     "data": {
      "text/plain": [
       "array([[ 1.        , -0.03432545],\n",
       "       [-0.03432545,  1.        ]])"
      ]
     },
     "execution_count": 43,
     "metadata": {},
     "output_type": "execute_result"
    }
   ],
   "source": [
    "corr_cpu_priority"
   ]
  },
  {
   "cell_type": "code",
   "execution_count": 44,
   "metadata": {},
   "outputs": [
    {
     "data": {
      "text/plain": [
       "array([[ 1.        , -0.05026422],\n",
       "       [-0.05026422,  1.        ]])"
      ]
     },
     "execution_count": 44,
     "metadata": {},
     "output_type": "execute_result"
    }
   ],
   "source": [
    "corr_memory_priority"
   ]
  },
  {
   "cell_type": "markdown",
   "metadata": {},
   "source": [
    "## After computing the correlations between the percentage of tasks with high priority over all task in each timestamp in each machine and the CPU and the memory available in this machine at this timestamp, we conclude that there isn't any correlation between the priority of the tasks and the resources available in the machine"
   ]
  },
  {
   "cell_type": "code",
   "execution_count": 5,
   "metadata": {},
   "outputs": [],
   "source": [
    "#question 6\n",
    "\"\"\"\n",
    "To answer to this question, we used two criteria:\n",
    "1- Comparing between the max usage of the resources and the requested resources.\n",
    "2- Comparing between the average usage of the resources and the requested resources.\n",
    "\n",
    "Steps:\n",
    "1- Use the task_usage RDD\n",
    "2- Map the data as tuple ((Job Id,task index),(maximum CPU rate,maximum Memory usage)) for the max criteria\n",
    "    and ((Job Id,task index),(CPU rate,canonical memory usage)) for the average criteria\n",
    "3- Group the data by the id of task consisting of (Job Id,task index)\n",
    "4- Map the values for each group using the corresponding function\n",
    "5- We created another RDD request_resource using task_event RDD to know the requested resources\n",
    "6- Map the data as tuple ((Job Id,task index),(requested CPU,requested Memory))\n",
    "\"\"\"\n",
    "def f(x):\n",
    "    \"\"\"\n",
    "    Input: list of tuple(CPU,Memory)\n",
    "    Output: tuple (max CPU,max Memory)\n",
    "    \"\"\"\n",
    "    cpu,memory=zip(*x)\n",
    "    cpu=[float(i) for i in cpu]\n",
    "    memory=[float(i) for i in memory]\n",
    "    return (max(cpu),max(memory))\n",
    "def g(x):\n",
    "    \"\"\"\n",
    "    Input: list of tuple(CPU,Memory)\n",
    "    Output: tuple (average CPU,average Memory)\n",
    "    \"\"\"\n",
    "    cpu,memory=zip(*x)\n",
    "    cpu=[float(i) for i in cpu]\n",
    "    memory=[float(i) for i in memory]\n",
    "    return (sum(cpu)/len(cpu),sum(memory)/len(memory))\n",
    "\n",
    "max_usage_over_all_time=task_usage\\\n",
    ".map(lambda x:((x[2],x[3]),(x[13],x[10])))\\\n",
    ".groupByKey()\\\n",
    ".mapValues(f)\n",
    "\n",
    "avg_usage_over_all_time=task_usage\\\n",
    ".map(lambda x:((x[2],x[3]),(x[5],x[6])))\\\n",
    ".groupByKey()\\\n",
    ".mapValues(f)\n",
    "\n",
    "request_resource=task_events\\\n",
    ".filter(lambda x:x[9]!='' and x[10]!='')\\\n",
    ".map(lambda x:((x[2],x[3]),(float(x[9]),float(x[10]))))\n",
    "\n"
   ]
  },
  {
   "cell_type": "code",
   "execution_count": 94,
   "metadata": {},
   "outputs": [],
   "source": [
    "\"\"\"\n",
    "1- Join the two rdd request_resource and max_usage_over_all_time by (Job Id,task index)\n",
    "2- Map the difference between the two values (request_resource,request_resource-max_usage_over_all_time)\n",
    "3- Filter the data to get only the positive request_resource-max_usage_over_all_time that used resources less than requested\n",
    "4- Filter the data to get only that used resources less than the half of that it requested\n",
    "3- Compute the percentage of tasks that used max CPU significantly less than request and the percentage of tasks\n",
    "    that used max Memory significantly less than request\n",
    "\"\"\"\n",
    "difference_between_max_and_request=request_resource.\\\n",
    "join(max_usage_over_all_time)\\\n",
    ".map(lambda x:(x[0],((x[1][0][0],x[1][0][0]-x[1][1][0]),(x[1][0][1],x[1][0][1]-x[1][1][1]))))\n",
    "percentage_of_tasks_that_used_CPU_significantly_less_than_request=(difference_between_max_and_request.map(lambda x:(x[1][0][0],x[1][0][1]))\\\n",
    " .filter(lambda x:x[1]>0).filter(lambda x:x[1]/x[0]>0.5).count()/difference_between_max_and_request.count())*100\n",
    "percentage_of_tasks_that_used_Memory_significantly_less_than_request=(difference_between_max_and_request.map(lambda x:(x[1][1][0],x[1][1][1]))\\\n",
    " .filter(lambda x:x[1]>0).filter(lambda x:x[1]/x[0]>0.5).count()/difference_between_max_and_request.count())*100"
   ]
  },
  {
   "cell_type": "code",
   "execution_count": null,
   "metadata": {},
   "outputs": [
    {
     "name": "stdout",
     "output_type": "stream",
     "text": [
      "The percentage of tasks that used max CPU significantly less than request is 42.48637082747936\n",
      " and the percentage of tasks that used max Memory significantly less than request is 70.83101752611955\n"
     ]
    }
   ],
   "source": [
    "print(\"The percentage of tasks that used max CPU significantly less than request is {}\\n and the percentage of tasks that used max Memory significantly less than request is {}\".format(percentage_of_tasks_that_used_CPU_significantly_less_than_request,percentage_of_tasks_that_used_Memory_significantly_less_than_request))"
   ]
  },
  {
   "cell_type": "code",
   "execution_count": 6,
   "metadata": {},
   "outputs": [],
   "source": [
    "\"\"\"\n",
    "1- Join the two rdd request_resource and max_usage_over_all_time by (Job Id,task index)\n",
    "2- Map the difference between the two values (request_resource,request_resource-max_usage_over_all_time)\n",
    "3- Filter the data to get only the positive request_resource-max_usage_over_all_time that used resources less than requested\n",
    "4- Filter the data to get only that used resources less than the half of that it requested\n",
    "3- Compute the percentage of tasks that used average CPU significantly less than request and the percentage of tasks\n",
    "    that used average Memory significantly less than request\n",
    "\"\"\"\n",
    "difference_between_average_and_request=request_resource\\\n",
    ".join(avg_usage_over_all_time)\\\n",
    ".map(lambda x:(x[0],((x[1][0][0],x[1][0][0]-x[1][1][0]),(x[1][0][1],x[1][0][1]-x[1][1][1]))))\n",
    "percentage_of_tasks_that_used_CPU_significantly_less_than_request=(difference_between_average_and_request.map(lambda x:x[1][0])\\\n",
    " .filter(lambda x:x[1]>0).filter(lambda x:x[1]/x[0]>0.5).count()/difference_between_average_and_request.count())*100\n",
    "percentage_of_tasks_that_used_Memory_significantly_less_than_request=(difference_between_average_and_request.map(lambda x:x[1][1])\\\n",
    " .filter(lambda x:x[1]>0).filter(lambda x:x[1]/x[0]>0.5).count()/difference_between_average_and_request.count())*100"
   ]
  },
  {
   "cell_type": "code",
   "execution_count": 7,
   "metadata": {},
   "outputs": [
    {
     "name": "stdout",
     "output_type": "stream",
     "text": [
      "The percentage of tasks that used average CPU significantly less than request is 68.4613331256954\n",
      " and the percentage of tasks that used average Memory significantly less than request is 72.64700762717447\n"
     ]
    }
   ],
   "source": [
    "print(\"The percentage of tasks that used average CPU significantly less than request is {}\\n and the percentage of tasks that used average Memory significantly less than request is {}\".format(percentage_of_tasks_that_used_CPU_significantly_less_than_request,percentage_of_tasks_that_used_Memory_significantly_less_than_request))"
   ]
  },
  {
   "cell_type": "code",
   "execution_count": 77,
   "metadata": {},
   "outputs": [],
   "source": [
    "#Addition question\n",
    "\"\"\"\n",
    "Are there tasks that consume more resources than what they requested? \n",
    "\"\"\"\n",
    "\"\"\"\n",
    "To answer to this question, we used two criteria:\n",
    "1- Comparing between the max usage of the resources and the requested resources.\n",
    "2- Comparing between the average usage of the resources and the requested resources.\n",
    "\n",
    "Steps:\n",
    "1- Use the task_usage RDD\n",
    "2- Map the data as tuple ((Job Id,task index),(maximum CPU rate,maximum Memory usage)) for the max criteria\n",
    "    and ((Job Id,task index),(CPU rate,canonical memory usage)) for the average criteria\n",
    "3- Group the data by the id of task consisting of (Job Id,task index)\n",
    "4- Map the values for each group using the corresponding function\n",
    "5- We created another RDD request_resource using task_event RDD to know the requested resources\n",
    "6- Map the data as tuple ((Job Id,task index),(requested CPU,requested Memory))\n",
    "\"\"\"\n",
    "def f(x):\n",
    "    \"\"\"\n",
    "    Input: list of tupe(CPU,Memory)\n",
    "    Output: tuple (max CPU,max Memory)\n",
    "    \"\"\"\n",
    "    cpu,memory=zip(*x)\n",
    "    cpu=[float(i) for i in cpu]\n",
    "    memory=[float(i) for i in memory]\n",
    "    return (max(cpu),max(memory))\n",
    "def g(x):\n",
    "    \"\"\"\n",
    "    Input: list of tupe(CPU,Memory)\n",
    "    Output: tuple (average CPU,average Memory)\n",
    "    \"\"\"\n",
    "    cpu,memory=zip(*x)\n",
    "    cpu=[float(i) for i in cpu]\n",
    "    memory=[float(i) for i in memory]\n",
    "    return (sum(cpu)/len(cpu),sum(memory)/len(memory))\n",
    "\n",
    "max_usage_over_all_time=task_usage\\\n",
    ".map(lambda x:((x[2],x[3]),(x[13],x[10])))\\\n",
    ".groupByKey()\\\n",
    ".mapValues(f)\n",
    "\n",
    "avg_usage_over_all_time=task_usage\\\n",
    ".map(lambda x:((x[2],x[3]),(x[5],x[6])))\\\n",
    ".groupByKey()\\\n",
    ".mapValues(f)\n",
    "\n",
    "request_resource=task_events\\\n",
    ".filter(lambda x:x[9]!='' and x[10]!='')\\\n",
    ".map(lambda x:((x[2],x[3]),(float(x[9]),float(x[10]))))\n",
    "\n"
   ]
  },
  {
   "cell_type": "code",
   "execution_count": 78,
   "metadata": {},
   "outputs": [],
   "source": [
    "\"\"\"\n",
    "1- Join the two rdd request_resource and max_usage_over_all_time by (Job Id,task index)\n",
    "2- Map the difference between the two values request_resource-max_usage_over_all_time\n",
    "3- Compute the percentage of tasks that used CPU more than request and the percentage of tasks\n",
    "    that used Memory more than request\n",
    "\"\"\"\n",
    "difference_between_max_and_request=request_resource.\\\n",
    "join(max_usage_over_all_time)\\\n",
    ".map(lambda x:(x[0],(x[1][0][0]-x[1][1][0],x[1][0][1]-x[1][1][1])))\n",
    "percentage_of_tasks_that_used_CPU_more_than_request=(difference_between_max_and_request.map(lambda x:x[1][0])\\\n",
    " .filter(lambda x:x<0).count()/difference_between_max_and_request.count())*100\n",
    "percentage_of_tasks_that_used_Memory_more_than_request=(difference_between_max_and_request.map(lambda x:x[1][1])\\\n",
    " .filter(lambda x:x<0).count()/difference_between_max_and_request.count())*100"
   ]
  },
  {
   "cell_type": "code",
   "execution_count": 79,
   "metadata": {},
   "outputs": [
    {
     "name": "stdout",
     "output_type": "stream",
     "text": [
      "The percentage of tasks that used CPU more than request is 48.46738689943357\n",
      " and the percentage of tasks that used Memory more than request is 19.299670259515104\n"
     ]
    }
   ],
   "source": [
    "print(\"The percentage of tasks that used CPU more than request is {}\\n and the percentage of tasks that used Memory more than request is {}\".format(percentage_of_tasks_that_used_CPU_more_than_request,percentage_of_tasks_that_used_Memory_more_than_request))"
   ]
  },
  {
   "cell_type": "markdown",
   "metadata": {},
   "source": [
    "### The percentage of tasks that used CPU more than request is 48.46738689943357\n",
    "### and the percentage of tasks that used Memory more than request is 19.299670259515104"
   ]
  },
  {
   "cell_type": "code",
   "execution_count": 23,
   "metadata": {},
   "outputs": [],
   "source": [
    "\"\"\"\n",
    "1- Join the two rdd request_resource and max_usage_over_all_time by (Job Id,task index)\n",
    "2- Map the difference between the two values request_resource-average_usage_over_all_time\n",
    "3- Compute the percentage of tasks that used CPU more than request and the percentage of tasks\n",
    "    that used Memory more than request\n",
    "\"\"\"\n",
    "difference_between_average_and_request=request_resource\\\n",
    ".join(avg_usage_over_all_time)\\\n",
    ".map(lambda x:(x[0],(x[1][0][0]-x[1][1][0],x[1][0][1]-x[1][1][1])))\n",
    "percentage_of_tasks_that_used_CPU_more_than_request=(difference_between_average_and_request.map(lambda x:x[1][0])\\\n",
    " .filter(lambda x:x<0).count()/difference_between_average_and_request.count())*100\n",
    "percentage_of_tasks_that_used_Memory_more_than_request=(difference_between_average_and_request.map(lambda x:x[1][1])\\\n",
    " .filter(lambda x:x<0).count()/difference_between_average_and_request.count())*100"
   ]
  },
  {
   "cell_type": "code",
   "execution_count": 24,
   "metadata": {},
   "outputs": [
    {
     "name": "stdout",
     "output_type": "stream",
     "text": [
      "The percentage of tasks that used CPU more than request is 33.0141483808489\n",
      " and the percentage of tasks that used Memory more than request is 5.651557739093464\n"
     ]
    }
   ],
   "source": [
    "print(\"The percentage of tasks that used CPU more than request is {}\\n and the percentage of tasks that used Memory more than request is {}\".format(percentage_of_tasks_that_used_CPU_more_than_request,percentage_of_tasks_that_used_Memory_more_than_request))"
   ]
  },
  {
   "cell_type": "markdown",
   "metadata": {},
   "source": [
    "### The percentage of tasks that used CPU more than request is 33.0141483808489\n",
    "### and the percentage of tasks that used Memory more than request is 5.651557739093464"
   ]
  },
  {
   "cell_type": "code",
   "execution_count": 5,
   "metadata": {},
   "outputs": [],
   "source": [
    "#question 7\n",
    "\"\"\"\n",
    "1- We calculated the resources used on each machine every timestamp using task_usage RDD\n",
    "2- Map ((machine ID,start time),(CPU rate,canonical memory usage))\n",
    "3- Reduce by key and sum the usage to obtain the sum of resources used by all tasks in each timestamp\n",
    "4- Map the result as tuple (machine ID, (sum of CPU,sum of Memory))\n",
    "5- Group by machine ID\n",
    "6- Calculate the mean over the time using mean_of_tuples function\n",
    "7- Getting the machine resources informations from machine_events RDD\n",
    "8- Filter the data to remove the rows that are without informations about resources\n",
    "9- Reduce by key to remove the duplicated data\n",
    "10- Computing the average of the free resources over the time by join the two previous RDD\n",
    "11- Calculate ((machine_recources-resources_used_on_each_machine_every_timestamp)/machine_recources)*100\n",
    "12- Map the data as tuple (machine ID,(percentage of unused CPU,percentage of unused memory))\n",
    "\"\"\"\n",
    "def mean_of_tuples(x):\n",
    "    \"\"\"\n",
    "    Input: list of tuples\n",
    "    Output: tuple of means\n",
    "    \"\"\"\n",
    "    y,z=zip(*x)\n",
    "    return (sum(y)/len(y),sum(z)/len(z))\n",
    "start_time_transformation=time.time()\n",
    "resources_used_on_each_machine_every_timestamp=task_usage\\\n",
    ".map(lambda x:((x[4],x[0]),(float(x[5]),float(x[6]))))\\\n",
    ".reduceByKey(lambda x,y:(x[0]+y[0],x[1]+y[1]))\\\n",
    ".map(lambda x:(x[0][0],x[1]))\\\n",
    ".groupByKey()\\\n",
    ".mapValues(mean_of_tuples)\n",
    "\n",
    "machine_recources=machine_events\\\n",
    ".filter(lambda x:x[4]!='' and x[5]!=0)\\\n",
    ".map(lambda x:(x[1],(float(x[4]),float(x[5]))))\\\n",
    ".reduceByKey(lambda x,y:x)\n",
    "\n",
    "machine_free_resource=machine_recources\\\n",
    ".join(resources_used_on_each_machine_every_timestamp)\\\n",
    ".map(lambda x:(x[0],(((x[1][0][0]-x[1][1][0])/x[1][0][0])*100,((x[1][0][1]-x[1][1][1])/x[1][0][1])*100)))\n",
    "end_time_transformation=time.time()"
   ]
  },
  {
   "cell_type": "code",
   "execution_count": 12,
   "metadata": {},
   "outputs": [],
   "source": [
    "start_time_action=time.time()\n",
    "rdd=machine_free_resource\\\n",
    ".sortBy(lambda x:x[1][0],ascending=False)\n",
    "\n",
    "result=rdd.collect()\n",
    "end_time_action=time.time()"
   ]
  },
  {
   "cell_type": "code",
   "execution_count": 9,
   "metadata": {},
   "outputs": [
    {
     "data": {
      "text/plain": [
       "[('5353530061', (100.0, 100.0)),\n",
       " ('336038648', (99.95500976470588, 48.49690151587377)),\n",
       " ('5290274741', (99.88484005882353, 21.015323529411766)),\n",
       " ('63693701', (99.58326240000001, 72.15680257856569)),\n",
       " ('4802136602', (99.55072352941177, 95.453))]"
      ]
     },
     "execution_count": 9,
     "metadata": {},
     "output_type": "execute_result"
    }
   ],
   "source": [
    "result"
   ]
  },
  {
   "cell_type": "code",
   "execution_count": 31,
   "metadata": {},
   "outputs": [],
   "source": [
    "start_time_action_after_caching=time.time()\n",
    "rdd=machine_free_resource\\\n",
    ".sortBy(lambda x:x[1][0],ascending=False)\n",
    "\n",
    "result=rdd.collect()\n",
    "end_time_action_after_caching=time.time()"
   ]
  },
  {
   "cell_type": "code",
   "execution_count": 49,
   "metadata": {},
   "outputs": [],
   "source": [
    "i=0\n",
    "for machine,resources_unused in result:\n",
    "    if resources_unused[0] < 80:\n",
    "        break\n",
    "    i=i+1"
   ]
  },
  {
   "cell_type": "code",
   "execution_count": 51,
   "metadata": {},
   "outputs": [
    {
     "name": "stdout",
     "output_type": "stream",
     "text": [
      "56.55553774643373\n"
     ]
    }
   ],
   "source": [
    "percentage_of_machines_with_more_than_80per100_unused_cpu=(i/len(result))*100\n",
    "print(percentage_of_machines_with_more_than_80per100_unused_cpu)"
   ]
  },
  {
   "cell_type": "code",
   "execution_count": 42,
   "metadata": {},
   "outputs": [],
   "source": [
    "result2=sorted(result,key = lambda x: -x[1][1])"
   ]
  },
  {
   "cell_type": "code",
   "execution_count": 55,
   "metadata": {},
   "outputs": [
    {
     "name": "stdout",
     "output_type": "stream",
     "text": [
      "39.6457765667575\n"
     ]
    }
   ],
   "source": [
    "percentage_of_machines_with_more_than_80per100_unused_memory=(i/len(result))*100\n",
    "print(percentage_of_machines_with_more_than_80per100_unused_memory)"
   ]
  },
  {
   "cell_type": "markdown",
   "metadata": {},
   "source": [
    "# Lazy Evaluation"
   ]
  },
  {
   "cell_type": "markdown",
   "metadata": {},
   "source": [
    "### In the last question(q7), we computed the duration of all the transformations and the action on the result of this transformations."
   ]
  },
  {
   "cell_type": "code",
   "execution_count": 10,
   "metadata": {},
   "outputs": [
    {
     "data": {
      "text/plain": [
       "0.22117018699645996"
      ]
     },
     "execution_count": 10,
     "metadata": {},
     "output_type": "execute_result"
    }
   ],
   "source": [
    "end_time_transformation-start_time_transformation"
   ]
  },
  {
   "cell_type": "code",
   "execution_count": 11,
   "metadata": {
    "scrolled": true
   },
   "outputs": [
    {
     "data": {
      "text/plain": [
       "38.355815410614014"
      ]
     },
     "execution_count": 11,
     "metadata": {},
     "output_type": "execute_result"
    }
   ],
   "source": [
    "end_time_action-start_time_action"
   ]
  },
  {
   "cell_type": "code",
   "execution_count": 32,
   "metadata": {},
   "outputs": [
    {
     "data": {
      "text/plain": [
       "1.032487392425537"
      ]
     },
     "execution_count": 32,
     "metadata": {},
     "output_type": "execute_result"
    }
   ],
   "source": [
    "end_time_action_after_caching-start_time_action_after_caching"
   ]
  },
  {
   "cell_type": "markdown",
   "metadata": {},
   "source": [
    "### From this result we can see the lazy evaluating that spark provides(more explanation in the report)."
   ]
  },
  {
   "cell_type": "markdown",
   "metadata": {},
   "source": [
    "# Persisting RDD"
   ]
  },
  {
   "cell_type": "markdown",
   "metadata": {},
   "source": [
    "## Compute the time without persisting"
   ]
  },
  {
   "cell_type": "code",
   "execution_count": 82,
   "metadata": {},
   "outputs": [],
   "source": [
    "testRDD=task_usage\\\n",
    ".map(lambda x:(x[2],x[3]))\\\n",
    ".distinct()"
   ]
  },
  {
   "cell_type": "code",
   "execution_count": 76,
   "metadata": {},
   "outputs": [],
   "source": [
    "start_time=time.time()\n",
    "x=testRDD.count()\n",
    "end_time=time.time()"
   ]
  },
  {
   "cell_type": "code",
   "execution_count": 77,
   "metadata": {
    "scrolled": true
   },
   "outputs": [
    {
     "data": {
      "text/plain": [
       "14.999836921691895"
      ]
     },
     "execution_count": 77,
     "metadata": {},
     "output_type": "execute_result"
    }
   ],
   "source": [
    "end_time-start_time"
   ]
  },
  {
   "cell_type": "code",
   "execution_count": 83,
   "metadata": {},
   "outputs": [],
   "source": [
    "start_time=time.time()\n",
    "y=testRDD.map(lambda x:x[0]).count()\n",
    "end_time=time.time()"
   ]
  },
  {
   "cell_type": "code",
   "execution_count": 84,
   "metadata": {},
   "outputs": [
    {
     "data": {
      "text/plain": [
       "15.484641790390015"
      ]
     },
     "execution_count": 84,
     "metadata": {},
     "output_type": "execute_result"
    }
   ],
   "source": [
    "end_time-start_time"
   ]
  },
  {
   "cell_type": "markdown",
   "metadata": {},
   "source": [
    "## Compute the time with persisting"
   ]
  },
  {
   "cell_type": "code",
   "execution_count": 141,
   "metadata": {},
   "outputs": [
    {
     "data": {
      "text/plain": [
       "PythonRDD[237] at RDD at PythonRDD.scala:49"
      ]
     },
     "execution_count": 141,
     "metadata": {},
     "output_type": "execute_result"
    }
   ],
   "source": [
    "testRDD.persist(StorageLevel.DISK_ONLY)"
   ]
  },
  {
   "cell_type": "code",
   "execution_count": 142,
   "metadata": {},
   "outputs": [],
   "source": [
    "start_time=time.time()\n",
    "x=testRDD.count()\n",
    "end_time=time.time()"
   ]
  },
  {
   "cell_type": "code",
   "execution_count": 77,
   "metadata": {
    "scrolled": true
   },
   "outputs": [
    {
     "data": {
      "text/plain": [
       "14.999836921691895"
      ]
     },
     "execution_count": 77,
     "metadata": {},
     "output_type": "execute_result"
    }
   ],
   "source": [
    "end_time-start_time"
   ]
  },
  {
   "cell_type": "code",
   "execution_count": 144,
   "metadata": {},
   "outputs": [],
   "source": [
    "start_time=time.time()\n",
    "y=testRDD.map(lambda x:x[0]).count()\n",
    "end_time=time.time()"
   ]
  },
  {
   "cell_type": "code",
   "execution_count": 145,
   "metadata": {},
   "outputs": [
    {
     "data": {
      "text/plain": [
       "0.21547627449035645"
      ]
     },
     "execution_count": 145,
     "metadata": {},
     "output_type": "execute_result"
    }
   ],
   "source": [
    "end_time-start_time"
   ]
  },
  {
   "cell_type": "markdown",
   "metadata": {},
   "source": [
    "# Performance"
   ]
  },
  {
   "cell_type": "markdown",
   "metadata": {},
   "source": [
    "## Now we will run a simple script with different number of cores\n",
    "### To do this test, we restart the server multiple times to change the number of cores using during the execution"
   ]
  },
  {
   "cell_type": "code",
   "execution_count": 5,
   "metadata": {},
   "outputs": [
    {
     "name": "stdout",
     "output_type": "stream",
     "text": [
      "The result is 25424731 in 1297.843424320221 seconds with 1 core\n"
     ]
    }
   ],
   "source": [
    "\"\"\"\n",
    "Running with one core\n",
    "\"\"\"\n",
    "start_time=time.time()\n",
    "testRDD=task_events\\\n",
    ".map(lambda x:(x[2],x[3]))\\\n",
    ".distinct()\n",
    "x=testRDD.count()\n",
    "end_time=time.time()\n",
    "print(\"The result is {} in {} seconds with {} core\".format(x,end_time-start_time,1))"
   ]
  },
  {
   "cell_type": "code",
   "execution_count": 5,
   "metadata": {},
   "outputs": [
    {
     "name": "stdout",
     "output_type": "stream",
     "text": [
      "The result is 25424731 in 753.8636753559113 seconds with 2 cores\n"
     ]
    }
   ],
   "source": [
    "\"\"\"\n",
    "Running with two core\n",
    "\"\"\"\n",
    "start_time=time.time()\n",
    "testRDD=task_events\\\n",
    ".map(lambda x:(x[2],x[3]))\\\n",
    ".distinct()\n",
    "x=testRDD.count()\n",
    "end_time=time.time()\n",
    "print(\"The result is {} in {} seconds with {} cores\".format(x,end_time-start_time,2))"
   ]
  },
  {
   "cell_type": "code",
   "execution_count": 5,
   "metadata": {},
   "outputs": [
    {
     "name": "stdout",
     "output_type": "stream",
     "text": [
      "The result is 25424731 in 678.1790561676025 seconds with 3 cores\n"
     ]
    }
   ],
   "source": [
    "\"\"\"\n",
    "Running with three core\n",
    "\"\"\"\n",
    "start_time=time.time()\n",
    "testRDD=task_events\\\n",
    ".map(lambda x:(x[2],x[3]))\\\n",
    ".distinct()\n",
    "x=testRDD.count()\n",
    "end_time=time.time()\n",
    "print(\"The result is {} in {} seconds with {} cores\".format(x,end_time-start_time,3))"
   ]
  },
  {
   "cell_type": "code",
   "execution_count": 5,
   "metadata": {},
   "outputs": [
    {
     "name": "stdout",
     "output_type": "stream",
     "text": [
      "The result is 25424731 in 637.9376907348633 seconds with 4 cores\n"
     ]
    }
   ],
   "source": [
    "\"\"\"\n",
    "Running with four core\n",
    "\"\"\"\n",
    "start_time=time.time()\n",
    "testRDD=task_events\\\n",
    ".map(lambda x:(x[2],x[3]))\\\n",
    ".distinct()\n",
    "x=testRDD.count()\n",
    "end_time=time.time()\n",
    "print(\"The result is {} in {} seconds with {} cores\".format(x,end_time-start_time,4))"
   ]
  },
  {
   "cell_type": "code",
   "execution_count": 7,
   "metadata": {},
   "outputs": [
    {
     "data": {
      "image/png": "[encoded data removed]",
      "text/plain": [
       "<Figure size 1440x720 with 1 Axes>"
      ]
     },
     "metadata": {
      "needs_background": "light"
     },
     "output_type": "display_data"
    }
   ],
   "source": [
    "pyplot.figure(figsize=(20,10))\n",
    "pyplot.plot([1,2,3,4],[1297.84, 753.86, 678.17, 637.93])\n",
    "pyplot.xlabel('The number of used cores',fontsize=25)\n",
    "pyplot.ylabel('The running time in seconds',fontsize=25)\n",
    "pyplot.show()"
   ]
  },
  {
   "cell_type": "markdown",
   "metadata": {},
   "source": [
    "# Thank you teachers :)"
   ]
  },
  {
   "cell_type": "code",
   "execution_count": null,
   "metadata": {},
   "outputs": [],
   "source": []
  }
 ],
 "metadata": {
  "kernelspec": {
   "display_name": "Python 3",
   "language": "python",
   "name": "python3"
  },
  "language_info": {
   "codemirror_mode": {
    "name": "ipython",
    "version": 3
   },
   "file_extension": ".py",
   "mimetype": "text/x-python",
   "name": "python",
   "nbconvert_exporter": "python",
   "pygments_lexer": "ipython3",
   "version": "3.6.6"
  }
 },
 "nbformat": 4,
 "nbformat_minor": 2
}
